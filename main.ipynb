{
 "cells": [
  {
   "cell_type": "code",
   "execution_count": 69,
   "metadata": {},
   "outputs": [],
   "source": [
    "import os\n",
    "import string\n",
    "\n",
    "from collections import Counter\n",
    "from number_parser import parse_ordinal"
   ]
  },
  {
   "cell_type": "markdown",
   "metadata": {},
   "source": [
    "# Count occurrence of each number"
   ]
  },
  {
   "cell_type": "code",
   "execution_count": 70,
   "metadata": {},
   "outputs": [],
   "source": [
    "def remove_punctuation(text):\n",
    "    # Create a translation table that maps each punctuation character to None\n",
    "    translator = str.maketrans(\"\", \"\", string.punctuation)\n",
    "    \n",
    "    # Use translate to remove punctuation\n",
    "    cleaned_text = text.translate(translator)\n",
    "    \n",
    "    return cleaned_text"
   ]
  },
  {
   "cell_type": "code",
   "execution_count": 71,
   "metadata": {},
   "outputs": [],
   "source": [
    "creation_myths_path = \"./texts\"\n",
    "\n",
    "\n",
    "# Function to extract numbers from a text\n",
    "def extract_numbers(text):\n",
    "    words = text.split()\n",
    "    numbers = []\n",
    "    for word in words:\n",
    "        num = parse_ordinal(word, language=\"en\")\n",
    "        numbers.append(num) if num else None\n",
    "    return numbers"
   ]
  },
  {
   "cell_type": "code",
   "execution_count": 76,
   "metadata": {},
   "outputs": [],
   "source": [
    "# Dictionary to store the counts of each number\n",
    "number_counts = Counter()\n",
    "\n",
    "# Loop through each file in the folder\n",
    "for filename in os.listdir(creation_myths_path):\n",
    "    if filename.endswith('.txt'):\n",
    "        with open(os.path.join(creation_myths_path, filename), 'r') as file:\n",
    "            text = file.read()\n",
    "\n",
    "            # Remove punctucation\n",
    "            text = remove_punctuation(text)\n",
    "            # Remove \"\\n\" used for new lines\n",
    "            text = text.replace(\"\\n\", \" \")\n",
    "\n",
    "            numbers = extract_numbers(text)\n",
    "            number_counts.update(numbers)"
   ]
  },
  {
   "cell_type": "code",
   "execution_count": 73,
   "metadata": {},
   "outputs": [
    {
     "name": "stdout",
     "output_type": "stream",
     "text": [
      "Most common numbers and their counts:\n",
      "1: 320\n",
      "2: 111\n",
      "4: 67\n",
      "3: 66\n",
      "9: 33\n",
      "7: 28\n",
      "100: 19\n",
      "10: 11\n",
      "5: 9\n",
      "6: 9\n",
      "11: 9\n",
      "50: 9\n",
      "600: 8\n",
      "13: 7\n",
      "12: 5\n",
      "14: 4\n",
      "1000: 4\n",
      "8: 3\n",
      "15: 3\n",
      "20: 2\n",
      "17: 2\n",
      "16: 1\n",
      "60: 1\n",
      "3600: 1\n"
     ]
    }
   ],
   "source": [
    "# Print the most common numbers and their counts\n",
    "print(\"Most common numbers and their counts:\")\n",
    "for num, count in number_counts.most_common():\n",
    "    print(f\"{num}: {count}\")"
   ]
  }
 ],
 "metadata": {
  "kernelspec": {
   "display_name": "creation_myths",
   "language": "python",
   "name": "python3"
  },
  "language_info": {
   "codemirror_mode": {
    "name": "ipython",
    "version": 3
   },
   "file_extension": ".py",
   "mimetype": "text/x-python",
   "name": "python",
   "nbconvert_exporter": "python",
   "pygments_lexer": "ipython3",
   "version": "3.11.4"
  },
  "orig_nbformat": 4
 },
 "nbformat": 4,
 "nbformat_minor": 2
}
