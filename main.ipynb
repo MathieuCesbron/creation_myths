{
 "cells": [
  {
   "cell_type": "markdown",
   "metadata": {},
   "source": [
    "# Imports"
   ]
  },
  {
   "cell_type": "code",
   "execution_count": 159,
   "metadata": {},
   "outputs": [],
   "source": [
    "import os\n",
    "import string\n",
    "import matplotlib\n",
    "import matplotlib.pyplot as plt\n",
    "%matplotlib inline\n",
    "\n",
    "from collections import Counter\n",
    "from number_parser import parse_ordinal"
   ]
  },
  {
   "cell_type": "markdown",
   "metadata": {},
   "source": [
    "# Study numbers"
   ]
  },
  {
   "cell_type": "markdown",
   "metadata": {},
   "source": [
    "## Get text numbers data"
   ]
  },
  {
   "cell_type": "code",
   "execution_count": 160,
   "metadata": {},
   "outputs": [],
   "source": [
    "def remove_punctuation(text):\n",
    "    translator = str.maketrans(\"\", \"\", string.punctuation)\n",
    "    cleaned_text = text.translate(translator)\n",
    "    return cleaned_text\n",
    "\n",
    "def remove_next_line(text):\n",
    "    return text.replace(\"\\n\", \" \")"
   ]
  },
  {
   "cell_type": "code",
   "execution_count": 161,
   "metadata": {},
   "outputs": [],
   "source": [
    "creation_myths_path = \"./texts\"\n",
    "\n",
    "# Function to extract numbers from a text\n",
    "def extract_numbers(text):\n",
    "    words = text.split()\n",
    "    numbers = []\n",
    "    for word in words:\n",
    "        num = parse_ordinal(word, language=\"en\")\n",
    "        numbers.append(num) if num else None\n",
    "    return numbers"
   ]
  },
  {
   "cell_type": "code",
   "execution_count": 162,
   "metadata": {},
   "outputs": [],
   "source": [
    "# Dictionary to store the counts of each number\n",
    "number_counts = Counter()\n",
    "\n",
    "# Loop through each file in the folder\n",
    "for filename in os.listdir(creation_myths_path):\n",
    "    if filename.endswith('.txt'):\n",
    "        with open(os.path.join(creation_myths_path, filename), 'r') as file:\n",
    "            text = file.read()\n",
    "\n",
    "            # Remove punctucation\n",
    "            text = remove_punctuation(text)\n",
    "            # Remove \"\\n\" used for new lines\n",
    "            text = remove_next_line(text)\n",
    "\n",
    "            numbers = extract_numbers(text)\n",
    "            number_counts.update(numbers)"
   ]
  },
  {
   "cell_type": "markdown",
   "metadata": {},
   "source": [
    "## Plot text numbers data"
   ]
  },
  {
   "cell_type": "code",
   "execution_count": 166,
   "metadata": {},
   "outputs": [
    {
     "data": {
      "image/png": "[encoded data removed]",
      "text/plain": [
       "<Figure size 640x480 with 1 Axes>"
      ]
     },
     "metadata": {},
     "output_type": "display_data"
    }
   ],
   "source": [
    "# Occurences of numbers from 0 to 10\n",
    "\n",
    "plt.bar(number_counts.keys(), number_counts.values())\n",
    "plt.xticks(range(11))\n",
    "plt.xlim(-0.5, 10.5)\n",
    "\n",
    "plt.xlabel('Numbers')\n",
    "plt.ylabel('Counts')\n",
    "plt.title('Occurences of numbers from 0 to 10')\n",
    "\n",
    "plt.show()"
   ]
  },
  {
   "cell_type": "code",
   "execution_count": 185,
   "metadata": {},
   "outputs": [
    {
     "name": "stdout",
     "output_type": "stream",
     "text": [
      "(1, 2, 4, 3, 9, 7, 100, 10, 5, 6, 11, 50, 600, 13, 12, 14, 1000, 8, 15, 20)\n"
     ]
    }
   ],
   "source": [
    "# Most common numbers\n",
    "twenty_most_common_numbers = number_counts.most_common(20)\n",
    "numbers, _ = zip(*twenty_most_common_numbers)\n",
    "\n",
    "print(numbers)"
   ]
  },
  {
   "cell_type": "code",
   "execution_count": null,
   "metadata": {},
   "outputs": [],
   "source": []
  }
 ],
 "metadata": {
  "kernelspec": {
   "display_name": "creation_myths",
   "language": "python",
   "name": "python3"
  },
  "language_info": {
   "codemirror_mode": {
    "name": "ipython",
    "version": 3
   },
   "file_extension": ".py",
   "mimetype": "text/x-python",
   "name": "python",
   "nbconvert_exporter": "python",
   "pygments_lexer": "ipython3",
   "version": "3.11.4"
  },
  "orig_nbformat": 4
 },
 "nbformat": 4,
 "nbformat_minor": 2
}
