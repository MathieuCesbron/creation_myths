{
 "cells": [
  {
   "cell_type": "markdown",
   "metadata": {},
   "source": [
    "# Imports"
   ]
  },
  {
   "cell_type": "code",
   "execution_count": 1,
   "metadata": {},
   "outputs": [],
   "source": [
    "import string\n",
    "import json\n",
    "import os\n",
    "\n",
    "from collections import Counter, OrderedDict\n",
    "from number_parser import parse_ordinal"
   ]
  },
  {
   "cell_type": "markdown",
   "metadata": {},
   "source": [
    "# Process Functions"
   ]
  },
  {
   "cell_type": "code",
   "execution_count": 2,
   "metadata": {},
   "outputs": [],
   "source": [
    "def remove_punctuation(text):\n",
    "    # Exclude '-' from removal\n",
    "    exclude_chars = string.punctuation.replace('-', '')\n",
    "    translator = str.maketrans('', '', exclude_chars)\n",
    "    cleaned_text = text.translate(translator)\n",
    "    return cleaned_text"
   ]
  },
  {
   "cell_type": "code",
   "execution_count": 3,
   "metadata": {},
   "outputs": [],
   "source": [
    "def remove_next_line(text):\n",
    "    return text.replace(\"\\n\", \" \")"
   ]
  },
  {
   "cell_type": "code",
   "execution_count": 4,
   "metadata": {},
   "outputs": [],
   "source": [
    "# Function to extract numbers from a text\n",
    "def extract_numbers(text):\n",
    "    dict = {\n",
    "        \"tens\": 10,\n",
    "        \"hundreds\": 100,\n",
    "        \"thousands\": 1000,\n",
    "        \"millions\": 1000000,\n",
    "        \"billions\": 1000000000,\n",
    "    }\n",
    "\n",
    "    words = text.split()\n",
    "    numbers = []\n",
    "    for word in words:\n",
    "        num = parse_ordinal(word, language=\"en\")\n",
    "        if word in dict:\n",
    "            num = dict[word]\n",
    "        numbers.append(num) if num else None\n",
    "    return numbers"
   ]
  },
  {
   "cell_type": "markdown",
   "metadata": {},
   "source": [
    "# Process texts"
   ]
  },
  {
   "cell_type": "code",
   "execution_count": 5,
   "metadata": {},
   "outputs": [],
   "source": [
    "creation_myths_path = \"./texts\"\n",
    "data_path = \"./data.json\"\n",
    "\n",
    "data_json = open(data_path, 'r+')\n",
    "data = json.load(data_json)\n",
    "\n",
    "for idx, creation_myth in enumerate(data[\"creation_myths\"]):\n",
    "    filename = creation_myth[\"title\"] + \".txt\"\n",
    "    with open(os.path.join(creation_myths_path, filename), 'r') as file:\n",
    "        text = file.read()\n",
    "\n",
    "        # Remove punctucation\n",
    "        text = remove_punctuation(text)\n",
    "        # Remove \"\\n\" used for new lines\n",
    "        text = remove_next_line(text)\n",
    "        # Converts text to lowercase\n",
    "        text = text.lower()\n",
    "\n",
    "        numbers = extract_numbers(text)\n",
    "        data[\"creation_myths\"][idx][\"stats\"] = {\"numbers\": OrderedDict(sorted(Counter(numbers).items()))}\n",
    "\n",
    "        data_json.seek(0)\n",
    "        json.dump(data, data_json, indent=4)\n",
    "        data_json.truncate()\n",
    "\n",
    "        with open(os.path.join(creation_myths_path, filename), 'w') as file:\n",
    "            file.write(text)\n",
    "\n",
    "data_json.close()"
   ]
  }
 ],
 "metadata": {
  "kernelspec": {
   "display_name": "creation_myths",
   "language": "python",
   "name": "python3"
  },
  "language_info": {
   "codemirror_mode": {
    "name": "ipython",
    "version": 3
   },
   "file_extension": ".py",
   "mimetype": "text/x-python",
   "name": "python",
   "nbconvert_exporter": "python",
   "pygments_lexer": "ipython3",
   "version": "3.11.4"
  },
  "orig_nbformat": 4
 },
 "nbformat": 4,
 "nbformat_minor": 2
}
