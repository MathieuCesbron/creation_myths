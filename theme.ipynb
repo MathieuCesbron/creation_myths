{
 "cells": [
  {
   "cell_type": "code",
   "execution_count": 2,
   "metadata": {},
   "outputs": [],
   "source": [
    "import os\n",
    "\n",
    "folder_path = './texts' \n",
    "\n",
    "txt_files = [f for f in os.listdir(folder_path) if f.endswith('.txt')]\n",
    "\n",
    "texts = []\n",
    "for txt_file in txt_files:\n",
    "    with open(os.path.join(folder_path, txt_file), 'r', encoding='utf-8') as file:\n",
    "        content = file.read()\n",
    "        texts.append(content)"
   ]
  }
 ],
 "metadata": {
  "kernelspec": {
   "display_name": "creation_myths",
   "language": "python",
   "name": "python3"
  },
  "language_info": {
   "codemirror_mode": {
    "name": "ipython",
    "version": 3
   },
   "file_extension": ".py",
   "mimetype": "text/x-python",
   "name": "python",
   "nbconvert_exporter": "python",
   "pygments_lexer": "ipython3",
   "version": "3.11.4"
  },
  "orig_nbformat": 4
 },
 "nbformat": 4,
 "nbformat_minor": 2
}
